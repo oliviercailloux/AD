{
 "cells": [
  {
   "cell_type": "code",
   "execution_count": 1,
   "metadata": {},
   "outputs": [],
   "source": [
    "import numpy as np\n",
    "from numpy import linalg as LA\n",
    "from math import sqrt"
   ]
  },
  {
   "cell_type": "code",
   "execution_count": 2,
   "metadata": {},
   "outputs": [
    {
     "name": "stdout",
     "output_type": "stream",
     "text": [
      "[ 2  5 -1] [-2  1  1] [1 2 3]\n"
     ]
    }
   ],
   "source": [
    "u1 = np.array([2, 5, -1])\n",
    "u2 = np.array([-2, 1, 1])\n",
    "y = np.array([1, 2, 3])\n",
    "print(u1, u2, y)"
   ]
  },
  {
   "cell_type": "code",
   "execution_count": 3,
   "metadata": {},
   "outputs": [
    {
     "name": "stdout",
     "output_type": "stream",
     "text": [
      "[-0.4  2.   0.2]\n",
      "[1.4 0.  2.8]\n"
     ]
    }
   ],
   "source": [
    "yOnS = 3.0/10.0 * u1 + 1.0/2.0 * u2\n",
    "print(yOnS)\n",
    "yleft = y - yOnS\n",
    "print(yleft)"
   ]
  },
  {
   "cell_type": "code",
   "execution_count": 4,
   "metadata": {},
   "outputs": [
    {
     "name": "stdout",
     "output_type": "stream",
     "text": [
      "[ 6  0 12]\n"
     ]
    }
   ],
   "source": [
    "v = np.cross(u1, u2)\n",
    "print(v)"
   ]
  },
  {
   "cell_type": "code",
   "execution_count": 5,
   "metadata": {
    "scrolled": true
   },
   "outputs": [
    {
     "data": {
      "text/plain": [
       "42"
      ]
     },
     "execution_count": 5,
     "metadata": {},
     "output_type": "execute_result"
    }
   ],
   "source": [
    "y @ v"
   ]
  },
  {
   "cell_type": "code",
   "execution_count": 6,
   "metadata": {
    "scrolled": true
   },
   "outputs": [
    {
     "name": "stdout",
     "output_type": "stream",
     "text": [
      "[1.4 0.  2.8]\n"
     ]
    }
   ],
   "source": [
    "yOnVOrth = 42 / 180 * v\n",
    "print(yOnVOrth)"
   ]
  },
  {
   "cell_type": "code",
   "execution_count": 7,
   "metadata": {},
   "outputs": [
    {
     "name": "stdout",
     "output_type": "stream",
     "text": [
      "[[ 0.36514837 -0.81649658  0.4472136 ]\n",
      " [ 0.91287093  0.40824829  0.        ]\n",
      " [-0.18257419  0.40824829  0.89442719]]\n",
      "[0.4472136  0.         0.89442719]\n"
     ]
    }
   ],
   "source": [
    "u1Normed = u1 / LA.norm(u1)\n",
    "u2Normed = u2 / LA.norm(u2)\n",
    "vNormed = v / LA.norm(v)\n",
    "vNormedAlt = np.cross(u1Normed, u2Normed)\n",
    "Pall = np.array([u1Normed, u2Normed, vNormed])\n",
    "newBasis = Pall.transpose()\n",
    "print(newBasis)\n",
    "print(vNormedAlt)"
   ]
  },
  {
   "cell_type": "code",
   "execution_count": 8,
   "metadata": {},
   "outputs": [
    {
     "data": {
      "text/plain": [
       "array([[ 1.00000000e+00, -1.11022302e-16, -1.11022302e-16],\n",
       "       [-1.11022302e-16,  1.00000000e+00,  5.55111512e-17],\n",
       "       [-1.11022302e-16,  5.55111512e-17,  1.00000000e+00]])"
      ]
     },
     "execution_count": 8,
     "metadata": {},
     "output_type": "execute_result"
    }
   ],
   "source": [
    "newBasis @ newBasis.transpose()"
   ]
  },
  {
   "cell_type": "code",
   "execution_count": 9,
   "metadata": {},
   "outputs": [
    {
     "name": "stdout",
     "output_type": "stream",
     "text": [
      "[[ 0.36514837  0.91287093 -0.18257419]\n",
      " [-0.81649658  0.40824829  0.40824829]]\n"
     ]
    }
   ],
   "source": [
    "PS = np.array([u1Normed, u2Normed])\n",
    "print(PS)"
   ]
  },
  {
   "cell_type": "code",
   "execution_count": 10,
   "metadata": {},
   "outputs": [
    {
     "data": {
      "text/plain": [
       "array([1.64316767, 1.22474487])"
      ]
     },
     "execution_count": 10,
     "metadata": {},
     "output_type": "execute_result"
    }
   ],
   "source": [
    "PS @ y"
   ]
  },
  {
   "cell_type": "code",
   "execution_count": 11,
   "metadata": {},
   "outputs": [
    {
     "data": {
      "text/plain": [
       "array([1.64316767, 1.22474487, 3.13049517])"
      ]
     },
     "execution_count": 11,
     "metadata": {},
     "output_type": "execute_result"
    }
   ],
   "source": [
    "Pall @ y"
   ]
  },
  {
   "cell_type": "code",
   "execution_count": 12,
   "metadata": {},
   "outputs": [
    {
     "name": "stdout",
     "output_type": "stream",
     "text": [
      "[[0.18257419 0.         0.        ]\n",
      " [0.         0.40824829 0.        ]\n",
      " [0.         0.         0.0745356 ]]\n"
     ]
    }
   ],
   "source": [
    "D = np.diag([1/sqrt(30), 1/sqrt(6), 1/sqrt(180)])\n",
    "print(D)"
   ]
  },
  {
   "cell_type": "code",
   "execution_count": 13,
   "metadata": {},
   "outputs": [
    {
     "data": {
      "text/plain": [
       "array([0.3       , 0.5       , 0.23333333])"
      ]
     },
     "execution_count": 13,
     "metadata": {},
     "output_type": "execute_result"
    }
   ],
   "source": [
    "D @ Pall @ y"
   ]
  }
 ],
 "metadata": {
  "kernelspec": {
   "display_name": "Python 3",
   "language": "python",
   "name": "python3"
  },
  "language_info": {
   "codemirror_mode": {
    "name": "ipython",
    "version": 3
   },
   "file_extension": ".py",
   "mimetype": "text/x-python",
   "name": "python",
   "nbconvert_exporter": "python",
   "pygments_lexer": "ipython3",
   "version": "3.7.3"
  }
 },
 "nbformat": 4,
 "nbformat_minor": 2
}

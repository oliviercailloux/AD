{
 "cells": [
  {
   "cell_type": "code",
   "execution_count": 1,
   "metadata": {},
   "outputs": [],
   "source": [
    "import numpy as np\n",
    "import numpy.linalg as LA"
   ]
  },
  {
   "cell_type": "code",
   "execution_count": 2,
   "metadata": {},
   "outputs": [
    {
     "name": "stdout",
     "output_type": "stream",
     "text": [
      "[ 5 -2  1]\n",
      "[ 1  2 -1]\n",
      "[-1 -5 10]\n",
      "[[1 0 0]\n",
      " [0 2 0]\n",
      " [0 0 1]]\n"
     ]
    }
   ],
   "source": [
    "u1 = np.array([5, -2, 1])\n",
    "u2 = np.array([1, 2, -1])\n",
    "y = np.array([-1, -5, 10])\n",
    "M = np.diag([1, 2, 1])\n",
    "print(u1)\n",
    "print(u2)\n",
    "print(y)\n",
    "print(M)"
   ]
  },
  {
   "cell_type": "code",
   "execution_count": 3,
   "metadata": {},
   "outputs": [
    {
     "name": "stdout",
     "output_type": "stream",
     "text": [
      "[ 0  6 24]\n"
     ]
    }
   ],
   "source": [
    "u1CrossU2InM = np.cross(M @ u1, M @ u2)\n",
    "print(u1CrossU2InM)"
   ]
  },
  {
   "cell_type": "code",
   "execution_count": 4,
   "metadata": {},
   "outputs": [
    {
     "name": "stdout",
     "output_type": "stream",
     "text": [
      "[ 0.  5. 20.]\n"
     ]
    }
   ],
   "source": [
    "yOnOrth = (y @ M @ u1CrossU2InM) / (u1CrossU2InM @ M @ u1CrossU2InM) * u1CrossU2InM\n",
    "print(3*yOnOrth)"
   ]
  },
  {
   "cell_type": "code",
   "execution_count": 5,
   "metadata": {},
   "outputs": [
    {
     "name": "stdout",
     "output_type": "stream",
     "text": [
      "50.00000000000001\n"
     ]
    }
   ],
   "source": [
    "distSquared = yOnOrth @ M @ yOnOrth\n",
    "print(distSquared)"
   ]
  },
  {
   "cell_type": "code",
   "execution_count": 6,
   "metadata": {},
   "outputs": [
    {
     "data": {
      "text/plain": [
       "-4"
      ]
     },
     "execution_count": 6,
     "metadata": {},
     "output_type": "execute_result"
    }
   ],
   "source": [
    "u1 @ M @ u2"
   ]
  },
  {
   "cell_type": "code",
   "execution_count": 7,
   "metadata": {},
   "outputs": [
    {
     "name": "stdout",
     "output_type": "stream",
     "text": [
      "[-10.   4.  -2.]\n"
     ]
    }
   ],
   "source": [
    "u2OnU1 = (u1 @ M @ u2) / (u1 @ M @ u1) * u1\n",
    "print(17*u2OnU1)"
   ]
  },
  {
   "cell_type": "code",
   "execution_count": 8,
   "metadata": {},
   "outputs": [
    {
     "name": "stdout",
     "output_type": "stream",
     "text": [
      "[ 27.  30. -15.]\n",
      "4.440892098500626e-16\n"
     ]
    }
   ],
   "source": [
    "b2 = u2 - u2OnU1\n",
    "print(17*b2)\n",
    "print(b2 @ M @ u1)"
   ]
  },
  {
   "cell_type": "code",
   "execution_count": 9,
   "metadata": {},
   "outputs": [
    {
     "name": "stdout",
     "output_type": "stream",
     "text": [
      "[125. -50.  25.]\n"
     ]
    }
   ],
   "source": [
    "yOnU1 = (y @ M @ u1) / (u1 @ M @ u1) * u1\n",
    "print(34*yOnU1)"
   ]
  },
  {
   "cell_type": "code",
   "execution_count": 10,
   "metadata": {},
   "outputs": [
    {
     "name": "stdout",
     "output_type": "stream",
     "text": [
      "[-4.67647059 -5.19607843  2.59803922]\n"
     ]
    }
   ],
   "source": [
    "#print((17*b2) @ M @ (17*b2))\n",
    "yOnB2 = (y @ M @ b2) / (b2 @ M @ b2) * b2\n",
    "#print(2754*yOnB2)\n",
    "print(yOnB2)"
   ]
  },
  {
   "cell_type": "code",
   "execution_count": 11,
   "metadata": {},
   "outputs": [
    {
     "name": "stdout",
     "output_type": "stream",
     "text": [
      "[-1.         -6.66666667  3.33333333]\n"
     ]
    }
   ],
   "source": [
    "yOnV = yOnU1 + yOnB2\n",
    "print(yOnV)"
   ]
  },
  {
   "cell_type": "code",
   "execution_count": 12,
   "metadata": {},
   "outputs": [
    {
     "name": "stdout",
     "output_type": "stream",
     "text": [
      "[0.         1.66666667 6.66666667]\n"
     ]
    }
   ],
   "source": [
    "yOnOrth = y - yOnV\n",
    "print(yOnOrth)"
   ]
  },
  {
   "cell_type": "code",
   "execution_count": 13,
   "metadata": {},
   "outputs": [
    {
     "name": "stdout",
     "output_type": "stream",
     "text": [
      "-1.7763568394002505e-15\n",
      "1.7763568394002505e-15\n"
     ]
    }
   ],
   "source": [
    "print(yOnOrth @ M @ u1)\n",
    "print(yOnOrth @ M @ b2)"
   ]
  },
  {
   "cell_type": "code",
   "execution_count": 14,
   "metadata": {},
   "outputs": [
    {
     "name": "stdout",
     "output_type": "stream",
     "text": [
      "49.999999999999986\n"
     ]
    }
   ],
   "source": [
    "print(yOnOrth @ M @ y)"
   ]
  }
 ],
 "metadata": {
  "kernelspec": {
   "display_name": "Python 3",
   "language": "python",
   "name": "python3"
  },
  "language_info": {
   "codemirror_mode": {
    "name": "ipython",
    "version": 3
   },
   "file_extension": ".py",
   "mimetype": "text/x-python",
   "name": "python",
   "nbconvert_exporter": "python",
   "pygments_lexer": "ipython3",
   "version": "3.7.3"
  }
 },
 "nbformat": 4,
 "nbformat_minor": 2
}

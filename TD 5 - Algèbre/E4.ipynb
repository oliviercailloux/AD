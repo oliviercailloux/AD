{
 "cells": [
  {
   "cell_type": "code",
   "execution_count": 18,
   "metadata": {},
   "outputs": [],
   "source": [
    "from math import sqrt\n",
    "import numpy as np\n",
    "import numpy.linalg as LA"
   ]
  },
  {
   "cell_type": "code",
   "execution_count": 3,
   "metadata": {},
   "outputs": [
    {
     "name": "stdout",
     "output_type": "stream",
     "text": [
      "[[ 1  3  3]\n",
      " [-3 -5 -3]\n",
      " [ 3  3  1]]\n"
     ]
    }
   ],
   "source": [
    "A = np.array([(1, 3, 3), (-3, -5, -3), (3, 3, 1)])\n",
    "print(A)"
   ]
  },
  {
   "cell_type": "code",
   "execution_count": 28,
   "metadata": {},
   "outputs": [
    {
     "name": "stdout",
     "output_type": "stream",
     "text": [
      "[[ 1  0  0]\n",
      " [ 0 -2  0]\n",
      " [ 0  0 -2]]\n"
     ]
    }
   ],
   "source": [
    "L = np.diag([1, -2, -2])\n",
    "print(L)"
   ]
  },
  {
   "cell_type": "code",
   "execution_count": 40,
   "metadata": {},
   "outputs": [
    {
     "name": "stdout",
     "output_type": "stream",
     "text": [
      "[ 1 -1  1] = [ 1 -1  1]\n"
     ]
    }
   ],
   "source": [
    "EV1 = np.array([1, -1, 1])\n",
    "print(A @ EV1, \"=\", 1*EV1)"
   ]
  },
  {
   "cell_type": "code",
   "execution_count": 41,
   "metadata": {},
   "outputs": [
    {
     "name": "stdout",
     "output_type": "stream",
     "text": [
      "[-2  0  2] = [-2  0  2]\n"
     ]
    }
   ],
   "source": [
    "EV2 = np.array([1, 0, -1])\n",
    "print(A @ EV2, \"=\", -2*EV2)"
   ]
  },
  {
   "cell_type": "code",
   "execution_count": 42,
   "metadata": {},
   "outputs": [
    {
     "name": "stdout",
     "output_type": "stream",
     "text": [
      "[-2  4 -2] = [-2  4 -2]\n"
     ]
    }
   ],
   "source": [
    "EV3 = np.array([1, -2, 1])\n",
    "print(A @ EV3, \"=\", -2*EV3)"
   ]
  },
  {
   "cell_type": "code",
   "execution_count": 43,
   "metadata": {},
   "outputs": [
    {
     "name": "stdout",
     "output_type": "stream",
     "text": [
      "[[ 1  1  1]\n",
      " [-1  0 -2]\n",
      " [ 1 -1  1]]\n"
     ]
    }
   ],
   "source": [
    "E = np.array([EV1, EV2, EV3]).transpose()\n",
    "print(E)"
   ]
  },
  {
   "cell_type": "code",
   "execution_count": 48,
   "metadata": {},
   "outputs": [
    {
     "name": "stdout",
     "output_type": "stream",
     "text": [
      "[[ 1 -2 -2]\n",
      " [-1  0  4]\n",
      " [ 1  2 -2]] \n",
      "=\n",
      " [[ 1 -2 -2]\n",
      " [-1  0  4]\n",
      " [ 1  2 -2]]\n"
     ]
    }
   ],
   "source": [
    "print(A @ E, \"\\n=\\n\", E @ L)"
   ]
  },
  {
   "cell_type": "code",
   "execution_count": 50,
   "metadata": {},
   "outputs": [
    {
     "name": "stdout",
     "output_type": "stream",
     "text": [
      "[[ 1.   1.   1. ]\n",
      " [ 0.5  0.  -0.5]\n",
      " [-0.5 -1.  -0.5]]\n",
      "[[1. 0. 0.]\n",
      " [0. 1. 0.]\n",
      " [0. 0. 1.]] = I\n",
      "[[ 1.  3.  3.]\n",
      " [-3. -5. -3.]\n",
      " [ 3.  3.  1.]] = A\n"
     ]
    }
   ],
   "source": [
    "Einv = LA.inv(E)\n",
    "print(Einv)\n",
    "print(Einv @ E, \"= I\")\n",
    "print(E @ L @ Einv, \"= A\")"
   ]
  }
 ],
 "metadata": {
  "kernelspec": {
   "display_name": "Python 3",
   "language": "python",
   "name": "python3"
  },
  "language_info": {
   "codemirror_mode": {
    "name": "ipython",
    "version": 3
   },
   "file_extension": ".py",
   "mimetype": "text/x-python",
   "name": "python",
   "nbconvert_exporter": "python",
   "pygments_lexer": "ipython3",
   "version": "3.7.3"
  }
 },
 "nbformat": 4,
 "nbformat_minor": 2
}

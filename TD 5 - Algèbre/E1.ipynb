{
 "cells": [
  {
   "cell_type": "code",
   "execution_count": 1,
   "metadata": {},
   "outputs": [],
   "source": [
    "import numpy as np\n",
    "from numpy import linalg as LA\n",
    "from math import sqrt"
   ]
  },
  {
   "cell_type": "code",
   "execution_count": 2,
   "metadata": {},
   "outputs": [
    {
     "name": "stdout",
     "output_type": "stream",
     "text": [
      "[[ 4 -3]\n",
      " [ 2 -1]]\n"
     ]
    }
   ],
   "source": [
    "A = np.array([(4, -3), (2, -1)])\n",
    "print(A)"
   ]
  },
  {
   "cell_type": "code",
   "execution_count": 3,
   "metadata": {},
   "outputs": [
    {
     "name": "stdout",
     "output_type": "stream",
     "text": [
      "[[10 -9]\n",
      " [ 6 -5]]\n"
     ]
    }
   ],
   "source": [
    "Asquared = A @ A\n",
    "print(Asquared)"
   ]
  },
  {
   "cell_type": "code",
   "execution_count": 4,
   "metadata": {},
   "outputs": [
    {
     "name": "stdout",
     "output_type": "stream",
     "text": [
      "[[ 46 -45]\n",
      " [ 30 -29]]\n"
     ]
    }
   ],
   "source": [
    "Afourth = Asquared @ Asquared\n",
    "print(Afourth)"
   ]
  },
  {
   "cell_type": "code",
   "execution_count": 5,
   "metadata": {},
   "outputs": [
    {
     "name": "stdout",
     "output_type": "stream",
     "text": [
      "[[ 766 -765]\n",
      " [ 510 -509]]\n"
     ]
    }
   ],
   "source": [
    "Aeighth = Afourth @ Afourth\n",
    "print(Aeighth)"
   ]
  },
  {
   "cell_type": "markdown",
   "metadata": {},
   "source": [
    "Lorsque A est diagonalisable, et que l’exposant est grand, on peut la diagonaliser puis calculer l’exposant."
   ]
  },
  {
   "cell_type": "markdown",
   "metadata": {},
   "source": [
    "Calculons $A = E D E^{-1}$."
   ]
  },
  {
   "cell_type": "code",
   "execution_count": 6,
   "metadata": {},
   "outputs": [
    {
     "name": "stdout",
     "output_type": "stream",
     "text": [
      "[0.83205029 0.5547002 ]\n",
      "[0.70710678 0.70710678]\n"
     ]
    }
   ],
   "source": [
    "E1 = np.array([3.0/sqrt(13), 2.0/sqrt(13)])\n",
    "E2 = np.array([1.0/sqrt(2), 1.0/sqrt(2)])\n",
    "print(E1)\n",
    "print(E2)"
   ]
  },
  {
   "cell_type": "code",
   "execution_count": 7,
   "metadata": {},
   "outputs": [
    {
     "name": "stdout",
     "output_type": "stream",
     "text": [
      "[1.66410059 1.10940039]\n",
      "[0.70710678 0.70710678]\n"
     ]
    }
   ],
   "source": [
    "print(A @ E1)\n",
    "print(A @ E2)"
   ]
  },
  {
   "cell_type": "code",
   "execution_count": 8,
   "metadata": {},
   "outputs": [
    {
     "name": "stdout",
     "output_type": "stream",
     "text": [
      "[[0.83205029 0.5547002 ]\n",
      " [0.70710678 0.70710678]]\n",
      "[[0.83205029 0.70710678]\n",
      " [0.5547002  0.70710678]]\n"
     ]
    }
   ],
   "source": [
    "Et = np.array([E1, E2])\n",
    "print(Et)\n",
    "E = Et.transpose()\n",
    "print(E)"
   ]
  },
  {
   "cell_type": "code",
   "execution_count": 9,
   "metadata": {},
   "outputs": [
    {
     "name": "stdout",
     "output_type": "stream",
     "text": [
      "[[ 3.60555128 -3.60555128]\n",
      " [-2.82842712  4.24264069]]\n"
     ]
    }
   ],
   "source": [
    "Einv = LA.inv(E)\n",
    "print(Einv)"
   ]
  },
  {
   "cell_type": "code",
   "execution_count": 10,
   "metadata": {},
   "outputs": [
    {
     "name": "stdout",
     "output_type": "stream",
     "text": [
      "[[2 0]\n",
      " [0 1]]\n"
     ]
    }
   ],
   "source": [
    "D = np.array([(2, 0), (0, 1)])\n",
    "print(D)"
   ]
  },
  {
   "cell_type": "code",
   "execution_count": 11,
   "metadata": {},
   "outputs": [
    {
     "data": {
      "text/plain": [
       "array([[ 4., -3.],\n",
       "       [ 2., -1.]])"
      ]
     },
     "execution_count": 11,
     "metadata": {},
     "output_type": "execute_result"
    }
   ],
   "source": [
    "E @ D @ Einv"
   ]
  },
  {
   "cell_type": "code",
   "execution_count": 12,
   "metadata": {},
   "outputs": [
    {
     "name": "stdout",
     "output_type": "stream",
     "text": [
      "[1 0]\n",
      "[0 1]\n"
     ]
    }
   ],
   "source": [
    "e1 = np.array([1, 0])\n",
    "e2 = np.array([0, 1])\n",
    "print(e1)\n",
    "print(e2)"
   ]
  },
  {
   "cell_type": "code",
   "execution_count": 13,
   "metadata": {},
   "outputs": [
    {
     "name": "stdout",
     "output_type": "stream",
     "text": [
      "[[256   0]\n",
      " [  0   1]]\n"
     ]
    }
   ],
   "source": [
    "D8 = LA.matrix_power(D, 8)\n",
    "print(D8)"
   ]
  },
  {
   "cell_type": "code",
   "execution_count": 14,
   "metadata": {},
   "outputs": [
    {
     "data": {
      "text/plain": [
       "array([[ 766., -765.],\n",
       "       [ 510., -509.]])"
      ]
     },
     "execution_count": 14,
     "metadata": {},
     "output_type": "execute_result"
    }
   ],
   "source": [
    "E @ D8 @ Einv"
   ]
  }
 ],
 "metadata": {
  "kernelspec": {
   "display_name": "Python 3",
   "language": "python",
   "name": "python3"
  },
  "language_info": {
   "codemirror_mode": {
    "name": "ipython",
    "version": 3
   },
   "file_extension": ".py",
   "mimetype": "text/x-python",
   "name": "python",
   "nbconvert_exporter": "python",
   "pygments_lexer": "ipython3",
   "version": "3.7.3"
  }
 },
 "nbformat": 4,
 "nbformat_minor": 2
}

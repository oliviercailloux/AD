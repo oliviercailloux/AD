{
 "cells": [
  {
   "cell_type": "code",
   "execution_count": 65,
   "metadata": {},
   "outputs": [],
   "source": [
    "from csv import DictReader\n",
    "from numpy import *\n",
    "from statistics import pvariance"
   ]
  },
  {
   "cell_type": "code",
   "execution_count": 94,
   "metadata": {},
   "outputs": [],
   "source": [
    "A = []\n",
    "B = []"
   ]
  },
  {
   "cell_type": "code",
   "execution_count": 95,
   "metadata": {},
   "outputs": [
    {
     "name": "stdout",
     "output_type": "stream",
     "text": [
      "[3.0, 4.0, 6.0, 7.0, 9.0, 10.0, 9.0, 11.0, 12.0, 13.0, 15.0, 4.0]\n",
      "[8.0, 9.0, 10.0, 13.0, 15.0, 14.0, 13.0, 16.0, 13.0, 19.0, 6.0, 19.0]\n"
     ]
    }
   ],
   "source": [
    "with open('2.2.csv') as csv_file:\n",
    "    csv_reader = csv.DictReader(csv_file)\n",
    "    for row in csv_reader:\n",
    "        A.append(float(row['A']))\n",
    "        B.append(float(row['B']))\n",
    "print(A)\n",
    "print(B)"
   ]
  },
  {
   "cell_type": "code",
   "execution_count": 96,
   "metadata": {},
   "outputs": [
    {
     "name": "stdout",
     "output_type": "stream",
     "text": [
      "13.57638888888889\n",
      "15.409722222222221\n"
     ]
    }
   ],
   "source": [
    "print(pvariance(A))\n",
    "print(pvariance(B))"
   ]
  },
  {
   "cell_type": "markdown",
   "metadata": {},
   "source": [
    "La matrice de variance-covariance a les variances pour diagonale :"
   ]
  },
  {
   "cell_type": "code",
   "execution_count": 97,
   "metadata": {},
   "outputs": [
    {
     "name": "stdout",
     "output_type": "stream",
     "text": [
      "[[13.57638889  1.46527778]\n",
      " [ 1.46527778 15.40972222]]\n"
     ]
    }
   ],
   "source": [
    "V = cov(A, B, bias=True)\n",
    "print(V)\n",
    "covAB = V[0][1]\n",
    "varA = V[0][0]\n",
    "varB = V[1][1]"
   ]
  },
  {
   "cell_type": "code",
   "execution_count": 98,
   "metadata": {},
   "outputs": [
    {
     "name": "stdout",
     "output_type": "stream",
     "text": [
      "1.4652777777777772\n",
      "0.10130489326551938\n"
     ]
    }
   ],
   "source": [
    "EA = mean(A)\n",
    "EB = mean(B)\n",
    "stdDevA = sqrt(varA)\n",
    "stdDevB = sqrt(varB)\n",
    "corr = covAB / (stdDevA * stdDevB)\n",
    "print(covAB)\n",
    "print(corr)"
   ]
  },
  {
   "cell_type": "markdown",
   "metadata": {},
   "source": [
    "La corrélation entre A et B est très faible, le modèle linéaire est donc inadapté."
   ]
  },
  {
   "cell_type": "code",
   "execution_count": 99,
   "metadata": {},
   "outputs": [
    {
     "name": "stdout",
     "output_type": "stream",
     "text": [
      "11.990281329923274\n",
      "0.10792838874680304\n"
     ]
    }
   ],
   "source": [
    "B2approx = covAB/varA\n",
    "B1approx = EB - B2approx * EA\n",
    "print(B1approx)\n",
    "print(B2approx)"
   ]
  },
  {
   "cell_type": "markdown",
   "metadata": {},
   "source": [
    "On obtient la droite de régression y = 11.99 + 0.11 x (qui ne nous servira pas à grand-chose, vu la qualité de l’approximation)"
   ]
  },
  {
   "cell_type": "markdown",
   "metadata": {},
   "source": [
    "Effaçons maintenant les deux dernières observations."
   ]
  },
  {
   "cell_type": "code",
   "execution_count": 100,
   "metadata": {},
   "outputs": [
    {
     "name": "stdout",
     "output_type": "stream",
     "text": [
      "[3.0, 4.0, 6.0, 7.0, 9.0, 10.0, 9.0, 11.0, 12.0, 13.0]\n",
      "[8.0, 9.0, 10.0, 13.0, 15.0, 14.0, 13.0, 16.0, 13.0, 19.0]\n"
     ]
    }
   ],
   "source": [
    "del A[10:12]\n",
    "del B[10:12]\n",
    "print(A)\n",
    "print(B)"
   ]
  },
  {
   "cell_type": "markdown",
   "metadata": {},
   "source": [
    "Et c’est reparti."
   ]
  },
  {
   "cell_type": "code",
   "execution_count": 103,
   "metadata": {},
   "outputs": [
    {
     "name": "stdout",
     "output_type": "stream",
     "text": [
      "0.898205382062774\n"
     ]
    }
   ],
   "source": [
    "V = cov(A, B, bias=True)\n",
    "covAB = V[0][1]\n",
    "varA = V[0][0]\n",
    "varB = V[1][1]\n",
    "EA = mean(A)\n",
    "EB = mean(B)\n",
    "stdDevA = sqrt(varA)\n",
    "stdDevB = sqrt(varB)\n",
    "corr = covAB / (stdDevA * stdDevB)\n",
    "print(corr)"
   ]
  },
  {
   "cell_type": "markdown",
   "metadata": {},
   "source": [
    "Ah-hah, la corrélation est nettement meilleure quand on enlève les points dérangeants."
   ]
  },
  {
   "cell_type": "code",
   "execution_count": 104,
   "metadata": {},
   "outputs": [
    {
     "name": "stdout",
     "output_type": "stream",
     "text": [
      "5.470119521912349\n",
      "0.8964143426294822\n"
     ]
    }
   ],
   "source": [
    "B2approx = covAB/varA\n",
    "B1approx = EB - B2approx * EA\n",
    "print(B1approx)\n",
    "print(B2approx)"
   ]
  },
  {
   "cell_type": "markdown",
   "metadata": {},
   "source": [
    "On obtient la droite de régression y = 5.47 + 0.90 x (mais sa validité repose sur la raison d’enlever les deux dernières données)"
   ]
  }
 ],
 "metadata": {
  "kernelspec": {
   "display_name": "Python 3",
   "language": "python",
   "name": "python3"
  },
  "language_info": {
   "codemirror_mode": {
    "name": "ipython",
    "version": 3
   },
   "file_extension": ".py",
   "mimetype": "text/x-python",
   "name": "python",
   "nbconvert_exporter": "python",
   "pygments_lexer": "ipython3",
   "version": "3.7.3"
  }
 },
 "nbformat": 4,
 "nbformat_minor": 2
}

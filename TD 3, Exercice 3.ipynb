{
 "cells": [
  {
   "cell_type": "code",
   "execution_count": 1,
   "metadata": {},
   "outputs": [],
   "source": [
    "from math import sqrt"
   ]
  },
  {
   "cell_type": "code",
   "execution_count": 2,
   "metadata": {},
   "outputs": [],
   "source": [
    "Ex = 35.6\n",
    "Ey = 170.2\n",
    "SCx = 1991\n",
    "SCT = 189.2\n",
    "prodXY = -195.4\n",
    "n = 20"
   ]
  },
  {
   "cell_type": "code",
   "execution_count": 3,
   "metadata": {},
   "outputs": [
    {
     "name": "stdout",
     "output_type": "stream",
     "text": [
      "173.69384229030638\n",
      "-0.0981416373681567\n"
     ]
    }
   ],
   "source": [
    "B2estimate = prodXY / SCx\n",
    "B1estimate = Ey - B2estimate * Ex\n",
    "print(B1estimate)\n",
    "print(B2estimate)"
   ]
  },
  {
   "cell_type": "markdown",
   "metadata": {},
   "source": [
    "On obtient la droite de régression y = 173.69 − 0.10 x"
   ]
  },
  {
   "cell_type": "code",
   "execution_count": 4,
   "metadata": {},
   "outputs": [
    {
     "name": "stdout",
     "output_type": "stream",
     "text": [
      "8.947368421052632\n",
      "0.004493906791086204\n"
     ]
    }
   ],
   "source": [
    "SCR = 170\n",
    "varEpsEstimate = SCR / (n-1)\n",
    "varB2Estimate = varEpsEstimate / SCx\n",
    "print(varEpsEstimate)\n",
    "print(varB2Estimate)"
   ]
  },
  {
   "cell_type": "code",
   "execution_count": 5,
   "metadata": {},
   "outputs": [
    {
     "name": "stdout",
     "output_type": "stream",
     "text": [
      "0.10147991543340373\n",
      "0.10135769525231407\n"
     ]
    }
   ],
   "source": [
    "Rsquared = 1 - SCR / SCT\n",
    "print(Rsquared)\n",
    "rho = (prodXY) / (sqrt(SCT) * sqrt(SCx))\n",
    "print(rho ** 2)"
   ]
  },
  {
   "cell_type": "markdown",
   "metadata": {},
   "source": [
    "R² = rho², ce qu’on observe à peu près (moyennant des erreurs d’approximation lors des manipulations en virgule flottante ou de la représentation des nombres dans l’énoncé). On voit que la corrélation linéaire entre les x et les y est très faible, autrement dit, que notre modèle n’explique pas grand-chose du lien entre y et x."
   ]
  }
 ],
 "metadata": {
  "kernelspec": {
   "display_name": "Python 3",
   "language": "python",
   "name": "python3"
  },
  "language_info": {
   "codemirror_mode": {
    "name": "ipython",
    "version": 3
   },
   "file_extension": ".py",
   "mimetype": "text/x-python",
   "name": "python",
   "nbconvert_exporter": "python",
   "pygments_lexer": "ipython3",
   "version": "3.7.3"
  }
 },
 "nbformat": 4,
 "nbformat_minor": 2
}
